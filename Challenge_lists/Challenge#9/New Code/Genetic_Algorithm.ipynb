{
 "cells": [
  {
   "cell_type": "markdown",
   "id": "e5655b18",
   "metadata": {},
   "source": [
    "Whatever, I decided to "
   ]
  }
 ],
 "metadata": {
  "language_info": {
   "name": "python"
  }
 },
 "nbformat": 4,
 "nbformat_minor": 5
}
